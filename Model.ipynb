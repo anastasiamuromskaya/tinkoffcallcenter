{
 "cells": [
  {
   "cell_type": "code",
   "execution_count": 13,
   "id": "7fa45211",
   "metadata": {},
   "outputs": [],
   "source": [
    "from sklearn.model_selection import train_test_split\n",
    "from sklearn.feature_extraction.text import TfidfVectorizer\n",
    "from sklearn.metrics import classification_report\n",
    "from sklearn.naive_bayes import MultinomialNB\n",
    "\n",
    "import pandas as pd\n",
    "import numpy as np"
   ]
  },
  {
   "cell_type": "code",
   "execution_count": 4,
   "id": "e77029fc",
   "metadata": {},
   "outputs": [
    {
     "data": {
      "text/html": [
       "<div>\n",
       "<style scoped>\n",
       "    .dataframe tbody tr th:only-of-type {\n",
       "        vertical-align: middle;\n",
       "    }\n",
       "\n",
       "    .dataframe tbody tr th {\n",
       "        vertical-align: top;\n",
       "    }\n",
       "\n",
       "    .dataframe thead th {\n",
       "        text-align: right;\n",
       "    }\n",
       "</style>\n",
       "<table border=\"1\" class=\"dataframe\">\n",
       "  <thead>\n",
       "    <tr style=\"text-align: right;\">\n",
       "      <th></th>\n",
       "      <th>Unnamed: 0</th>\n",
       "      <th>hi_task_id</th>\n",
       "      <th>start_date</th>\n",
       "      <th>end_date</th>\n",
       "      <th>length</th>\n",
       "      <th>phrases</th>\n",
       "      <th>phrases_concated</th>\n",
       "      <th>operator_user_id</th>\n",
       "      <th>wo_hit_status_result_desc</th>\n",
       "      <th>oper_phrases</th>\n",
       "      <th>oper_words</th>\n",
       "      <th>bl</th>\n",
       "      <th>oper_words_stemmed</th>\n",
       "    </tr>\n",
       "  </thead>\n",
       "  <tbody>\n",
       "    <tr>\n",
       "      <th>0</th>\n",
       "      <td>0</td>\n",
       "      <td>12078590742#36469131809</td>\n",
       "      <td>18.12.2021 7:04:16</td>\n",
       "      <td>18.12.2021 7:05:27</td>\n",
       "      <td>71</td>\n",
       "      <td>0 алло, 1 да, 1 здравствуйте меня зовут * я зв...</td>\n",
       "      <td>1</td>\n",
       "      <td>410131.0</td>\n",
       "      <td>NaN</td>\n",
       "      <td>1 да, 1 здравствуйте меня зовут * я звоню с пр...</td>\n",
       "      <td>['кредитную', 'лимитом', 'рублей', 'беспроцент...</td>\n",
       "      <td>0</td>\n",
       "      <td>['кредитн', 'лимит', 'рубл', 'беспроцентн', 'к...</td>\n",
       "    </tr>\n",
       "    <tr>\n",
       "      <th>1</th>\n",
       "      <td>1</td>\n",
       "      <td>12078913588#36450601588</td>\n",
       "      <td>18.12.2021 8:06:12</td>\n",
       "      <td>18.12.2021 8:10:06</td>\n",
       "      <td>234</td>\n",
       "      <td>0 *, 1 здравствуйте, 0 добрый день, 1 меня зов...</td>\n",
       "      <td>1</td>\n",
       "      <td>136548.0</td>\n",
       "      <td>NaN</td>\n",
       "      <td>1 здравствуйте, 1 меня зовут * я звоню вам с и...</td>\n",
       "      <td>['предлагаем', 'нашу', 'кредитную', 'лимитом',...</td>\n",
       "      <td>0</td>\n",
       "      <td>['предлага', 'наш', 'кредитн', 'лимит', 'рубл'...</td>\n",
       "    </tr>\n",
       "    <tr>\n",
       "      <th>2</th>\n",
       "      <td>2</td>\n",
       "      <td>12082226162#36492491475</td>\n",
       "      <td>18.12.2021 6:01:38</td>\n",
       "      <td>18.12.2021 6:03:12</td>\n",
       "      <td>75</td>\n",
       "      <td>1 здравствуйте меня зовут * звоню с интересным...</td>\n",
       "      <td>2</td>\n",
       "      <td>1009562.0</td>\n",
       "      <td>NaN</td>\n",
       "      <td>1 здравствуйте меня зовут * звоню с интересным...</td>\n",
       "      <td>['предлагаем', 'кредитную', 'лимитом', 'рублей...</td>\n",
       "      <td>0</td>\n",
       "      <td>['предлага', 'кредитн', 'лимит', 'рубл', 'спец...</td>\n",
       "    </tr>\n",
       "    <tr>\n",
       "      <th>3</th>\n",
       "      <td>3</td>\n",
       "      <td>12082932286#36494587977</td>\n",
       "      <td>18.12.2021 6:00:38</td>\n",
       "      <td>18.12.2021 6:04:59</td>\n",
       "      <td>261</td>\n",
       "      <td>0 ай, 1 алло, 1 меня * * звоню с целью озвучит...</td>\n",
       "      <td>1</td>\n",
       "      <td>310475.0</td>\n",
       "      <td>NaN</td>\n",
       "      <td>1 алло, 1 меня * * звоню с целью озвучить для ...</td>\n",
       "      <td>['банком', 'предлагается', 'высоким', 'кредитн...</td>\n",
       "      <td>0</td>\n",
       "      <td>['банк', 'предлага', 'высок', 'кредитн', 'лими...</td>\n",
       "    </tr>\n",
       "    <tr>\n",
       "      <th>4</th>\n",
       "      <td>4</td>\n",
       "      <td>12083613174#35456293560</td>\n",
       "      <td>18.12.2021 8:14:18</td>\n",
       "      <td>18.12.2021 8:14:56</td>\n",
       "      <td>38</td>\n",
       "      <td>0 алло, 1 здравствуйте звонок сорвался извинит...</td>\n",
       "      <td>1</td>\n",
       "      <td>457890.0</td>\n",
       "      <td>NaN</td>\n",
       "      <td>1 здравствуйте звонок сорвался извините меня *...</td>\n",
       "      <td>['банковским', 'предложением', 'спешите', 'отк...</td>\n",
       "      <td>0</td>\n",
       "      <td>['банковск', 'предложен', 'спеш', 'отказыва', ...</td>\n",
       "    </tr>\n",
       "  </tbody>\n",
       "</table>\n",
       "</div>"
      ],
      "text/plain": [
       "   Unnamed: 0               hi_task_id          start_date  \\\n",
       "0           0  12078590742#36469131809  18.12.2021 7:04:16   \n",
       "1           1  12078913588#36450601588  18.12.2021 8:06:12   \n",
       "2           2  12082226162#36492491475  18.12.2021 6:01:38   \n",
       "3           3  12082932286#36494587977  18.12.2021 6:00:38   \n",
       "4           4  12083613174#35456293560  18.12.2021 8:14:18   \n",
       "\n",
       "             end_date  length  \\\n",
       "0  18.12.2021 7:05:27      71   \n",
       "1  18.12.2021 8:10:06     234   \n",
       "2  18.12.2021 6:03:12      75   \n",
       "3  18.12.2021 6:04:59     261   \n",
       "4  18.12.2021 8:14:56      38   \n",
       "\n",
       "                                             phrases  phrases_concated  \\\n",
       "0  0 алло, 1 да, 1 здравствуйте меня зовут * я зв...                 1   \n",
       "1  0 *, 1 здравствуйте, 0 добрый день, 1 меня зов...                 1   \n",
       "2  1 здравствуйте меня зовут * звоню с интересным...                 2   \n",
       "3  0 ай, 1 алло, 1 меня * * звоню с целью озвучит...                 1   \n",
       "4  0 алло, 1 здравствуйте звонок сорвался извинит...                 1   \n",
       "\n",
       "   operator_user_id wo_hit_status_result_desc  \\\n",
       "0          410131.0                       NaN   \n",
       "1          136548.0                       NaN   \n",
       "2         1009562.0                       NaN   \n",
       "3          310475.0                       NaN   \n",
       "4          457890.0                       NaN   \n",
       "\n",
       "                                        oper_phrases  \\\n",
       "0  1 да, 1 здравствуйте меня зовут * я звоню с пр...   \n",
       "1  1 здравствуйте, 1 меня зовут * я звоню вам с и...   \n",
       "2  1 здравствуйте меня зовут * звоню с интересным...   \n",
       "3  1 алло, 1 меня * * звоню с целью озвучить для ...   \n",
       "4  1 здравствуйте звонок сорвался извините меня *...   \n",
       "\n",
       "                                          oper_words  bl  \\\n",
       "0  ['кредитную', 'лимитом', 'рублей', 'беспроцент...   0   \n",
       "1  ['предлагаем', 'нашу', 'кредитную', 'лимитом',...   0   \n",
       "2  ['предлагаем', 'кредитную', 'лимитом', 'рублей...   0   \n",
       "3  ['банком', 'предлагается', 'высоким', 'кредитн...   0   \n",
       "4  ['банковским', 'предложением', 'спешите', 'отк...   0   \n",
       "\n",
       "                                  oper_words_stemmed  \n",
       "0  ['кредитн', 'лимит', 'рубл', 'беспроцентн', 'к...  \n",
       "1  ['предлага', 'наш', 'кредитн', 'лимит', 'рубл'...  \n",
       "2  ['предлага', 'кредитн', 'лимит', 'рубл', 'спец...  \n",
       "3  ['банк', 'предлага', 'высок', 'кредитн', 'лими...  \n",
       "4  ['банковск', 'предложен', 'спеш', 'отказыва', ...  "
      ]
     },
     "execution_count": 4,
     "metadata": {},
     "output_type": "execute_result"
    }
   ],
   "source": [
    "df = pd.read_csv('/Users/daniilkorolkov/Desktop/Тинькофф | Поиск Конверсионных тематик/oper_prepared_phrases.csv', sep = ';')\n",
    "df.head()"
   ]
  },
  {
   "cell_type": "code",
   "execution_count": 5,
   "id": "9dc348ff",
   "metadata": {},
   "outputs": [],
   "source": [
    "data = df.query('wo_hit_status_result_desc == (\"Дозвон, Отказ\", \"Дозвон, Успешно\")')[['oper_words_stemmed', 'wo_hit_status_result_desc']]\n",
    "\n",
    "data.wo_hit_status_result_desc = (data.wo_hit_status_result_desc == \"Дозвон, Успешно\").astype(int)"
   ]
  },
  {
   "cell_type": "code",
   "execution_count": 6,
   "id": "6de3748b",
   "metadata": {},
   "outputs": [],
   "source": [
    "df_train, df_test = train_test_split(data, test_size=0.2, shuffle=True, random_state=123)"
   ]
  },
  {
   "cell_type": "code",
   "execution_count": 7,
   "id": "bccc5c7d",
   "metadata": {},
   "outputs": [],
   "source": [
    "vectorizer = TfidfVectorizer(ngram_range = (2,2), stop_words = ['календарн', 'уг', 'фамил', 'отчеств', 'рожден']).fit(df_train.oper_words_stemmed.astype(str))"
   ]
  },
  {
   "cell_type": "code",
   "execution_count": 8,
   "id": "d8eaf339",
   "metadata": {},
   "outputs": [],
   "source": [
    "X_train_vectors = vectorizer.transform(df_train.oper_words_stemmed.astype(str))\n",
    "X_test_vectors  = vectorizer.transform(df_test. oper_words_stemmed.astype(str))"
   ]
  },
  {
   "cell_type": "code",
   "execution_count": 9,
   "id": "039b003e",
   "metadata": {},
   "outputs": [],
   "source": [
    "clf = MultinomialNB().fit(X_train_vectors, df_train.wo_hit_status_result_desc)"
   ]
  },
  {
   "cell_type": "code",
   "execution_count": 10,
   "id": "14511699",
   "metadata": {},
   "outputs": [],
   "source": [
    "X = vectorizer.transform(data.oper_words_stemmed.astype(str))"
   ]
  },
  {
   "cell_type": "code",
   "execution_count": 11,
   "id": "8db68beb",
   "metadata": {},
   "outputs": [
    {
     "name": "stdout",
     "output_type": "stream",
     "text": [
      "              precision    recall  f1-score   support\n",
      "\n",
      "           0       0.99      1.00      0.99    516289\n",
      "           1       0.97      0.74      0.84     19376\n",
      "\n",
      "    accuracy                           0.99    535665\n",
      "   macro avg       0.98      0.87      0.92    535665\n",
      "weighted avg       0.99      0.99      0.99    535665\n",
      "\n"
     ]
    }
   ],
   "source": [
    "predicts = clf.predict(X)\n",
    "print(classification_report(data.wo_hit_status_result_desc, predicts))"
   ]
  },
  {
   "cell_type": "code",
   "execution_count": 14,
   "id": "f44885a8",
   "metadata": {},
   "outputs": [
    {
     "name": "stdout",
     "output_type": "stream",
     "text": [
      "Negative\n",
      "\n",
      "front: ['банковск предложен' 'банковск услуг' 'предложен банковск'\n",
      " 'предлага кредитн' 'кредитн лимит' 'лимит рубл' 'беспроцентн период'\n",
      " 'рубл беспроцентн' 'период покупк' 'покупк дне' 'дне рассрочк'\n",
      " 'достав бесплатн' 'люб удобн' 'рассрочк месяц' 'бесплатн люб'\n",
      " 'удобн оформлен' 'предложен прослуша' 'месяц партнер' 'кредитн карт'\n",
      " 'магазин партнер' 'предложен добр' 'рассрочк магазин' 'оформлен ответ'\n",
      " 'партнер достав' 'информац полезн' 'партнер месяц' 'спеш отказыва'\n",
      " 'предложен предложен' 'предложен информац' 'предлож кредитн'\n",
      " 'оформлен обязател' 'обязател ответ' 'предложен спеш' 'бесплатн оформлен'\n",
      " 'предложен кредитн' 'выпуск доставк' 'выгодн услов' 'предложен сфер'\n",
      " 'полезн дальн' 'услуг прослуша' 'хотел предлож' 'месяц выпуск'\n",
      " 'выпуст достав' 'кредитн беспроцентн' 'абсолютн бесплатн'\n",
      " 'предложен услуг' 'выгодн банковск' 'месяц достав' 'месяц выпуст'\n",
      " 'хот предлож'] \n",
      "\n",
      "Positive\n",
      "\n",
      "front: ['ваш заявк' 'заявк кредитн' 'дня результат' 'лимит дня' 'кредитн лимит'\n",
      " 'беспроцентн период' 'предостав контакт' 'контакт друз' 'может предостав'\n",
      " 'кажд друг' 'наш продукт' 'ваш рекомендац' 'расскаж наш' 'покупк дне'\n",
      " 'рубл свяж' 'рекомендац расскаж' 'период покупк' 'воспольз карт'\n",
      " 'продукт кажд' 'друз рубл' 'друг воспольз' 'карт рубл' 'ваш доход'\n",
      " 'свяж сообщ' 'звон ваш' 'доход положительн' 'лимит рубл' 'получ ваш'\n",
      " 'кредитн продукт' 'сообщ звон' 'рубл беспроцентн' 'дне рассрочк'\n",
      " 'положительн кредитн' 'ваш друз' 'придет запрос' 'результат придет'\n",
      " 'ответьт получ' 'предлага кредитн' 'магазин партнер' 'запрос ответьт'\n",
      " 'работа работа' 'рубл номер' 'номер ваш' 'рассрочк месяц' 'люб удобн'\n",
      " 'рассрочк магазин' 'достав бесплатн' 'партнер месяц' 'бесплатн люб'\n",
      " 'оформлен ответ'] \n",
      "\n"
     ]
    }
   ],
   "source": [
    "i = 50\n",
    "\n",
    "neg_class_prob_sorted = clf.feature_log_prob_[0, :].argsort()[::-1]\n",
    "pos_class_prob_sorted = clf.feature_log_prob_[1, :].argsort()[::-1]\n",
    "\n",
    "print('Negative\\n\\nfront:', np.take(vectorizer.get_feature_names(), neg_class_prob_sorted[:i]),'\\n')\n",
    "#print('back:', np.take(vectorizer.get_feature_names(), neg_class_prob_sorted[-i*2::]),'\\n')\n",
    "print('Positive\\n\\nfront:', np.take(vectorizer.get_feature_names(), pos_class_prob_sorted[:i]),'\\n')\n",
    "#print('back:', np.take(vectorizer.get_feature_names(), pos_class_prob_sorted[-i*2::]))"
   ]
  },
  {
   "cell_type": "code",
   "execution_count": null,
   "id": "a1f4fcfb",
   "metadata": {},
   "outputs": [],
   "source": []
  }
 ],
 "metadata": {
  "kernelspec": {
   "display_name": "Python 3 (ipykernel)",
   "language": "python",
   "name": "python3"
  },
  "language_info": {
   "codemirror_mode": {
    "name": "ipython",
    "version": 3
   },
   "file_extension": ".py",
   "mimetype": "text/x-python",
   "name": "python",
   "nbconvert_exporter": "python",
   "pygments_lexer": "ipython3",
   "version": "3.9.7"
  }
 },
 "nbformat": 4,
 "nbformat_minor": 5
}
